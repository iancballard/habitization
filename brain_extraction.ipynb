{
 "cells": [
  {
   "cell_type": "code",
   "execution_count": 3,
   "metadata": {
    "collapsed": false
   },
   "outputs": [],
   "source": [
    "import os.path as op\n",
    "import os\n",
    "import numpy as np\n",
    "from ipyparallel import Client"
   ]
  },
  {
   "cell_type": "code",
   "execution_count": 4,
   "metadata": {
    "collapsed": false
   },
   "outputs": [
    {
     "ename": "SSHException",
     "evalue": "The authenticity of the host can't be established.",
     "output_type": "error",
     "traceback": [
      "\u001b[0;31m---------------------------------------------------------------------------\u001b[0m",
      "\u001b[0;31mSSHException\u001b[0m                              Traceback (most recent call last)",
      "\u001b[0;32m<ipython-input-4-8425383d71ee>\u001b[0m in \u001b[0;36m<module>\u001b[0;34m()\u001b[0m\n\u001b[0;32m----> 1\u001b[0;31m \u001b[0mengines\u001b[0m \u001b[0;34m=\u001b[0m \u001b[0mClient\u001b[0m\u001b[0;34m(\u001b[0m\u001b[0msshserver\u001b[0m\u001b[0;34m=\u001b[0m\u001b[0;34m'dnl@10.206.82.214'\u001b[0m\u001b[0;34m)\u001b[0m\u001b[0;34m\u001b[0m\u001b[0m\n\u001b[0m",
      "\u001b[0;32m/home/dnl/anaconda2/lib/python2.7/site-packages/ipyparallel/client/client.pyc\u001b[0m in \u001b[0;36m__init__\u001b[0;34m(self, url_file, profile, profile_dir, ipython_dir, context, debug, sshserver, sshkey, password, paramiko, timeout, cluster_id, **extra_args)\u001b[0m\n\u001b[1;32m    453\u001b[0m         \u001b[0;32mif\u001b[0m \u001b[0mself\u001b[0m\u001b[0;34m.\u001b[0m\u001b[0m_ssh\u001b[0m \u001b[0;32mand\u001b[0m \u001b[0mpassword\u001b[0m \u001b[0;32mis\u001b[0m \u001b[0mNone\u001b[0m\u001b[0;34m:\u001b[0m\u001b[0;34m\u001b[0m\u001b[0m\n\u001b[1;32m    454\u001b[0m             \u001b[0;32mfrom\u001b[0m \u001b[0mzmq\u001b[0m\u001b[0;34m.\u001b[0m\u001b[0mssh\u001b[0m \u001b[0;32mimport\u001b[0m \u001b[0mtunnel\u001b[0m\u001b[0;34m\u001b[0m\u001b[0m\n\u001b[0;32m--> 455\u001b[0;31m             \u001b[0;32mif\u001b[0m \u001b[0mtunnel\u001b[0m\u001b[0;34m.\u001b[0m\u001b[0mtry_passwordless_ssh\u001b[0m\u001b[0;34m(\u001b[0m\u001b[0msshserver\u001b[0m\u001b[0;34m,\u001b[0m \u001b[0msshkey\u001b[0m\u001b[0;34m,\u001b[0m \u001b[0mparamiko\u001b[0m\u001b[0;34m)\u001b[0m\u001b[0;34m:\u001b[0m\u001b[0;34m\u001b[0m\u001b[0m\n\u001b[0m\u001b[1;32m    456\u001b[0m                 \u001b[0mpassword\u001b[0m\u001b[0;34m=\u001b[0m\u001b[0mFalse\u001b[0m\u001b[0;34m\u001b[0m\u001b[0m\n\u001b[1;32m    457\u001b[0m             \u001b[0;32melse\u001b[0m\u001b[0;34m:\u001b[0m\u001b[0;34m\u001b[0m\u001b[0m\n",
      "\u001b[0;32m/home/dnl/anaconda2/lib/python2.7/site-packages/zmq/ssh/tunnel.pyc\u001b[0m in \u001b[0;36mtry_passwordless_ssh\u001b[0;34m(server, keyfile, paramiko)\u001b[0m\n\u001b[1;32m     72\u001b[0m     \u001b[0;32melse\u001b[0m\u001b[0;34m:\u001b[0m\u001b[0;34m\u001b[0m\u001b[0m\n\u001b[1;32m     73\u001b[0m         \u001b[0mf\u001b[0m \u001b[0;34m=\u001b[0m \u001b[0m_try_passwordless_paramiko\u001b[0m\u001b[0;34m\u001b[0m\u001b[0m\n\u001b[0;32m---> 74\u001b[0;31m     \u001b[0;32mreturn\u001b[0m \u001b[0mf\u001b[0m\u001b[0;34m(\u001b[0m\u001b[0mserver\u001b[0m\u001b[0;34m,\u001b[0m \u001b[0mkeyfile\u001b[0m\u001b[0;34m)\u001b[0m\u001b[0;34m\u001b[0m\u001b[0m\n\u001b[0m\u001b[1;32m     75\u001b[0m \u001b[0;34m\u001b[0m\u001b[0m\n\u001b[1;32m     76\u001b[0m \u001b[0;32mdef\u001b[0m \u001b[0m_try_passwordless_openssh\u001b[0m\u001b[0;34m(\u001b[0m\u001b[0mserver\u001b[0m\u001b[0;34m,\u001b[0m \u001b[0mkeyfile\u001b[0m\u001b[0;34m)\u001b[0m\u001b[0;34m:\u001b[0m\u001b[0;34m\u001b[0m\u001b[0m\n",
      "\u001b[0;32m/home/dnl/anaconda2/lib/python2.7/site-packages/zmq/ssh/tunnel.pyc\u001b[0m in \u001b[0;36m_try_passwordless_openssh\u001b[0;34m(server, keyfile)\u001b[0m\n\u001b[1;32m     93\u001b[0m             \u001b[0mi\u001b[0m \u001b[0;34m=\u001b[0m \u001b[0mp\u001b[0m\u001b[0;34m.\u001b[0m\u001b[0mexpect\u001b[0m\u001b[0;34m(\u001b[0m\u001b[0;34m[\u001b[0m\u001b[0mssh_newkey\u001b[0m\u001b[0;34m,\u001b[0m \u001b[0m_password_pat\u001b[0m\u001b[0;34m]\u001b[0m\u001b[0;34m,\u001b[0m \u001b[0mtimeout\u001b[0m\u001b[0;34m=\u001b[0m\u001b[0;36m.1\u001b[0m\u001b[0;34m)\u001b[0m\u001b[0;34m\u001b[0m\u001b[0m\n\u001b[1;32m     94\u001b[0m             \u001b[0;32mif\u001b[0m \u001b[0mi\u001b[0m\u001b[0;34m==\u001b[0m\u001b[0;36m0\u001b[0m\u001b[0;34m:\u001b[0m\u001b[0;34m\u001b[0m\u001b[0m\n\u001b[0;32m---> 95\u001b[0;31m                 \u001b[0;32mraise\u001b[0m \u001b[0mSSHException\u001b[0m\u001b[0;34m(\u001b[0m\u001b[0;34m'The authenticity of the host can\\'t be established.'\u001b[0m\u001b[0;34m)\u001b[0m\u001b[0;34m\u001b[0m\u001b[0m\n\u001b[0m\u001b[1;32m     96\u001b[0m         \u001b[0;32mexcept\u001b[0m \u001b[0mpexpect\u001b[0m\u001b[0;34m.\u001b[0m\u001b[0mTIMEOUT\u001b[0m\u001b[0;34m:\u001b[0m\u001b[0;34m\u001b[0m\u001b[0m\n\u001b[1;32m     97\u001b[0m             \u001b[0;32mcontinue\u001b[0m\u001b[0;34m\u001b[0m\u001b[0m\n",
      "\u001b[0;31mSSHException\u001b[0m: The authenticity of the host can't be established."
     ]
    }
   ],
   "source": [
    "engines = Client()"
   ]
  },
  {
   "cell_type": "code",
   "execution_count": null,
   "metadata": {
    "collapsed": false
   },
   "outputs": [],
   "source": [
    "home_dir =  '/home/dnl/habitization/'\n",
    "data_dir = home_dir + '/data/'\n",
    "subs = home_dir + 'subjects.txt'\n",
    "subs = list(np.loadtxt(subs,str))\n",
    "\n",
    "ignore_subs = ['HAB02', 'HAB03', 'HAB05', 'HAB08', 'HAB10', 'HAB11', 'HAB12', 'HAB13', 'HAB14', 'HAB16', 'HAB17']\n",
    "#First analysis included subjects 'HAB02', 'HAB03', 'HAB05', 'HAB08', 'HAB10', 'HAB11', 'HAB12', 'HAB13', 'HAB14', 'HAB16'\n",
    "#Second analysis included subjects 'HAB01', 'HAB07', 'HAB18', 'HAB19', 'HAB20', 'HAB21', 'HAB22', 'HAB23', 'HAB24', 'HAB25'\n",
    "subs = [x for x in subs if x not in ignore_subs]"
   ]
  },
  {
   "cell_type": "code",
   "execution_count": null,
   "metadata": {
    "collapsed": false
   },
   "outputs": [],
   "source": [
    "def bet(sub):\n",
    "    T1s = ['T1_a','T1_b']\n",
    "    for t1 in T1s:\n",
    "        anat = op.join(data_dir,sub,'anat',t1 + '.nii.gz')\n",
    "        new_anat = op.join(data_dir,sub,'anat',t1 + '_brain.nii.gz')\n",
    "        \n",
    "        if not op.exists(new_anat):\n",
    "            cmd = ['bet',anat,new_anat,'-R','-f','.4']\n",
    "            cmd = ' '.join(cmd)        \n",
    "            os.system(cmd)\n",
    "    return sub"
   ]
  },
  {
   "cell_type": "code",
   "execution_count": null,
   "metadata": {
    "collapsed": false
   },
   "outputs": [],
   "source": [
    "sub_engines = engines[:] #less if you want to use fewer\n",
    "sub_engines.push(dict(bet = bet,\n",
    "                     data_dir = data_dir))\n",
    "sub_engines.execute('import numpy as np')\n",
    "sub_engines.execute('import os.path as op')\n",
    "with sub_engines.sync_imports():\n",
    "    import os\n",
    "    \n",
    "output = sub_engines.map_sync(bet,subs)"
   ]
  },
  {
   "cell_type": "code",
   "execution_count": null,
   "metadata": {
    "collapsed": true
   },
   "outputs": [],
   "source": []
  }
 ],
 "metadata": {
  "anaconda-cloud": {},
  "kernelspec": {
   "display_name": "Python [conda root]",
   "language": "python",
   "name": "conda-root-py"
  },
  "language_info": {
   "codemirror_mode": {
    "name": "ipython",
    "version": 2
   },
   "file_extension": ".py",
   "mimetype": "text/x-python",
   "name": "python",
   "nbconvert_exporter": "python",
   "pygments_lexer": "ipython2",
   "version": "2.7.12"
  }
 },
 "nbformat": 4,
 "nbformat_minor": 1
}
