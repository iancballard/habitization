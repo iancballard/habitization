{
 "cells": [
  {
   "cell_type": "code",
   "execution_count": 10,
   "metadata": {
    "collapsed": true
   },
   "outputs": [],
   "source": [
    "import os.path as op\n",
    "import os\n",
    "import numpy as np\n",
    "import glob"
   ]
  },
  {
   "cell_type": "code",
   "execution_count": 39,
   "metadata": {
    "collapsed": false
   },
   "outputs": [],
   "source": [
    "db_path = '/home/dnl/Dropbox_ASU/Decision_Neuroscience_Lab/'\n",
    "home_dir =  '/home/dnl/habitization/'\n",
    "subs = db_path + 'Habitization/subjects.txt'\n",
    "subs = list(np.loadtxt(subs,str))\n",
    "\n",
    "ignore_subs = ['HAB17']\n",
    "subs = [x for x in subs if x not in ignore_subs]"
   ]
  },
  {
   "cell_type": "code",
   "execution_count": 40,
   "metadata": {
    "collapsed": true
   },
   "outputs": [],
   "source": [
    "def make_new_dir(dir_name):\n",
    "    if not op.exists(dir_name):\n",
    "        os.mkdir(dir_name)"
   ]
  },
  {
   "cell_type": "code",
   "execution_count": 41,
   "metadata": {
    "collapsed": false
   },
   "outputs": [
    {
     "name": "stdout",
     "output_type": "stream",
     "text": [
      "HAB02 Session1 cal\n",
      "HAB03 Session1 cal\n",
      "HAB16 Session5 cal\n"
     ]
    }
   ],
   "source": [
    "sesh_map = {'Session1':'a','Session5':'b'}\n",
    "for sub in subs:\n",
    "    if True:#sub == 'HAB10':\n",
    "        \n",
    "        #Make all the directories we need##\n",
    "        sub_dir = home_dir + '/data/'+ sub + '/'\n",
    "        make_new_dir(sub_dir)\n",
    "        \n",
    "        func_dir = sub_dir + '/func/'\n",
    "        make_new_dir(func_dir)\n",
    "            \n",
    "        anat_dir = sub_dir + '/anat/'\n",
    "        make_new_dir(anat_dir)\n",
    "            \n",
    "        cal_dir = sub_dir + '/cal/'\n",
    "        make_new_dir(cal_dir)\n",
    "       \n",
    "        onsets_dir = sub_dir + '/onsets/'\n",
    "        make_new_dir(onsets_dir)\n",
    "\n",
    "        \n",
    "        #loop through sessions\n",
    "        for sesh in sesh_map.keys():\n",
    "            fmri_path = db_path + '/fMRI_Data/Habitization/' + sub + sesh +'/'\n",
    "\n",
    "            ##First copy functional data##\n",
    "            epis = glob.glob(fmri_path + '/EP*gz')\n",
    "            if len(epis) != 6:\n",
    "                print sub,sesh,'epi'\n",
    "\n",
    "            for epi in epis:\n",
    "                run = epi.split('/')[-1].split('.')[0][-1]\n",
    "\n",
    "                new_f = func_dir + 'run_' + sesh_map[sesh] + run + '.nii.gz'\n",
    "                if op.exists(new_f):\n",
    "                    os.remove(new_f)\n",
    "                    \n",
    "                cmd = ['ln','-s',epi, new_f]\n",
    "                os.system(' '.join(cmd))\n",
    "            \n",
    "            #Next copy cal scans\n",
    "            cals = glob.glob(fmri_path + '/*Field*')\n",
    "            cals.sort()\n",
    "            if len(cals) != 2:\n",
    "                print sub,sesh,'cal'\n",
    "                \n",
    "            for n,cal in enumerate(cals):\n",
    "                new_f = cal_dir + 'cal_' + sesh_map[sesh] + str(n) + '.nii.gz'\n",
    "                if op.exists(new_f):\n",
    "                    os.remove(new_f)\n",
    "                \n",
    "                cmd = ['ln','-s',cal, new_f]\n",
    "                os.system(' '.join(cmd))  \n",
    "                \n",
    "            ##Next copy anatomical data##\n",
    "            T1s = glob.glob(fmri_path + '/*BRAVO*')\n",
    "            if len(T1s) < 1:\n",
    "                print sub,sesh,'T1'\n",
    "                \n",
    "            for t1 in T1s:\n",
    "                new_f = anat_dir + 'T1_' + sesh_map[sesh] + '.nii.gz'\n",
    "                if op.exists(new_f):\n",
    "                    os.remove(new_f)\n",
    "                \n",
    "                cmd = ['ln','-s',t1, new_f]\n",
    "                os.system(' '.join(cmd))\n",
    "        \n",
    "\n",
    "            \n",
    "            ##Next copy timing files\n",
    "            onset_path = db_path + '/Habitization/timing_files/' + sub\n",
    "            onsets = glob.glob(onset_path + '/*txt')\n",
    "            if len(onsets) != 12:\n",
    "                print sub,sesh,'onsets'\n",
    "                \n",
    "            for o in onsets:\n",
    "                lowercase = {'B':'b','A':'a'}\n",
    "                file_id = o.split('/')[-1].split('_')[1:3]\n",
    "                run = file_id[0][-1]\n",
    "                sesh = lowercase[file_id[1]]\n",
    "                new_f = onsets_dir + 'run_' + sesh + run + '.txt'\n",
    "\n",
    "                os.remove(new_f)\n",
    "                cmd = ['ln','-s',o, new_f]\n",
    "                os.system(' '.join(cmd))\n",
    "            "
   ]
  },
  {
   "cell_type": "code",
   "execution_count": 44,
   "metadata": {
    "collapsed": false
   },
   "outputs": [],
   "source": [
    "##make sym links for lyman analyis\n",
    "new_name = {'a1':'01',\n",
    "           'a2':'02',\n",
    "            'a3':'03',\n",
    "           'a4':'04',\n",
    "            'a5':'05',\n",
    "           'a6':'06',\n",
    "            'b1':'07',\n",
    "           'b2':'08',\n",
    "            'b3':'09',\n",
    "           'b4':'10',\n",
    "            'b5':'11',\n",
    "           'b6':'12'}\n",
    "            \n",
    "for sub in subs:\n",
    "    sub_dir = home_dir + '/data/'+ sub \n",
    "    \n",
    "    new_func = home_dir + '/data/'+ sub + '/func/lyman/'\n",
    "    make_new_dir(new_func)\n",
    "  \n",
    "    new_cal= home_dir + '/data/'+ sub + '/cal/lyman/'\n",
    "    make_new_dir(new_cal)\n",
    "    \n",
    "    for sesh in ['a','b']:\n",
    "        for run in map(str,range(1,7)):\n",
    "            \n",
    "            func = sub_dir + '/func/run_' + sesh + run + '.nii.gz'\n",
    "            new_f = new_func + 'run_' + new_name[sesh + run] + '.nii.gz'\n",
    "            cmd = ['ln','-s',func,new_f]\n",
    "            cmd = ' '.join(cmd)\n",
    "            os.system(cmd)\n",
    "\n",
    "            cal = sub_dir + '/cal/merged_' + sesh + str(run) + '_mcf.nii.gz'\n",
    "            new_f = new_cal + 'run_' + new_name[sesh + run] + '.nii.gz'\n",
    "            cmd = ['ln','-s',cal,new_f]\n",
    "            cmd = ' '.join(cmd)\n",
    "            os.system(cmd)"
   ]
  },
  {
   "cell_type": "code",
   "execution_count": null,
   "metadata": {
    "collapsed": true
   },
   "outputs": [],
   "source": []
  }
 ],
 "metadata": {
  "anaconda-cloud": {},
  "kernelspec": {
   "display_name": "Python [default]",
   "language": "python",
   "name": "python2"
  },
  "language_info": {
   "codemirror_mode": {
    "name": "ipython",
    "version": 2
   },
   "file_extension": ".py",
   "mimetype": "text/x-python",
   "name": "python",
   "nbconvert_exporter": "python",
   "pygments_lexer": "ipython2",
   "version": "2.7.12"
  }
 },
 "nbformat": 4,
 "nbformat_minor": 0
}
