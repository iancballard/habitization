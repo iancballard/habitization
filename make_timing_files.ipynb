{
 "cells": [
  {
   "cell_type": "code",
   "execution_count": 31,
   "metadata": {
    "collapsed": true
   },
   "outputs": [],
   "source": [
    "import pandas as pd\n",
    "import numpy as np\n",
    "import os\n",
    "import os.path as op"
   ]
  },
  {
   "cell_type": "code",
   "execution_count": 7,
   "metadata": {
    "collapsed": false
   },
   "outputs": [],
   "source": [
    "home_dir =  '/home/dnl/habitization/'\n",
    "subs = home_dir + 'subjects.txt'\n",
    "subs = list(np.loadtxt(subs,str))"
   ]
  },
  {
   "cell_type": "code",
   "execution_count": 22,
   "metadata": {
    "collapsed": true
   },
   "outputs": [],
   "source": [
    "new_name = {'a1':'01',\n",
    "           'a2':'02',\n",
    "            'a3':'03',\n",
    "           'a4':'04',\n",
    "            'a5':'05',\n",
    "           'a6':'06',\n",
    "            'b1':'07',\n",
    "           'b2':'08',\n",
    "            'b3':'09',\n",
    "           'b4':'10',\n",
    "            'b5':'11',\n",
    "           'b6':'12'}"
   ]
  },
  {
   "cell_type": "code",
   "execution_count": 29,
   "metadata": {
    "collapsed": false
   },
   "outputs": [],
   "source": [
    "for sub in subs:\n",
    "    if sub =='HAB03':\n",
    "        out_f = op.join(home_dir,'data',sub,'onsets','decision.csv')\n",
    "        timing = []\n",
    "        for sesh in ['a','b']:\n",
    "            for run in map(str,range(1,7)):\n",
    "                time = op.join(home_dir,'data',sub,'onsets',\n",
    "                               'run_' + sesh + run +'.txt')\n",
    "                time = pd.read_csv(time,delim_whitespace = True,\n",
    "                                  header = None)\n",
    "                time.columns = ['onset','duration','value']\n",
    "                time['run'] = new_name[sesh + run]\n",
    "                if sesh == 'a':\n",
    "                    time['condition'] = 'first'\n",
    "                else:\n",
    "                    time['condition'] = 'second'\n",
    "                    \n",
    "                timing.append(time)\n",
    "        timing = pd.concat(timing)\n",
    "        timing.to_csv(out_f,index = False)"
   ]
  },
  {
   "cell_type": "code",
   "execution_count": 32,
   "metadata": {
    "collapsed": false
   },
   "outputs": [
    {
     "ename": "NameError",
     "evalue": "name 'lyman' is not defined",
     "output_type": "error",
     "traceback": [
      "\u001b[0;31m---------------------------------------------------------------------------\u001b[0m",
      "\u001b[0;31mNameError\u001b[0m                                 Traceback (most recent call last)",
      "\u001b[0;32m<ipython-input-32-460937744faa>\u001b[0m in \u001b[0;36m<module>\u001b[0;34m()\u001b[0m\n\u001b[1;32m      1\u001b[0m \u001b[0;32mfor\u001b[0m \u001b[0msub\u001b[0m \u001b[0;32min\u001b[0m \u001b[0msubs\u001b[0m\u001b[0;34m:\u001b[0m\u001b[0;34m\u001b[0m\u001b[0m\n\u001b[1;32m      2\u001b[0m     \u001b[0mlyman_dir\u001b[0m \u001b[0;34m=\u001b[0m \u001b[0mop\u001b[0m\u001b[0;34m.\u001b[0m\u001b[0mjoin\u001b[0m\u001b[0;34m(\u001b[0m\u001b[0mhome_dir\u001b[0m\u001b[0;34m,\u001b[0m\u001b[0;34m'data'\u001b[0m\u001b[0;34m,\u001b[0m\u001b[0msub\u001b[0m\u001b[0;34m,\u001b[0m\u001b[0;34m'onsets'\u001b[0m\u001b[0;34m,\u001b[0m\u001b[0;34m'lyman'\u001b[0m\u001b[0;34m)\u001b[0m\u001b[0;34m\u001b[0m\u001b[0m\n\u001b[0;32m----> 3\u001b[0;31m     \u001b[0mos\u001b[0m\u001b[0;34m.\u001b[0m\u001b[0mmkdir\u001b[0m\u001b[0;34m(\u001b[0m\u001b[0mlyman\u001b[0m\u001b[0;34m)\u001b[0m\u001b[0;34m\u001b[0m\u001b[0m\n\u001b[0m\u001b[1;32m      4\u001b[0m \u001b[0;34m\u001b[0m\u001b[0m\n",
      "\u001b[0;31mNameError\u001b[0m: name 'lyman' is not defined"
     ]
    }
   ],
   "source": [
    "for sub in subs:\n",
    "    lyman_dir = op.join(home_dir,'data',sub,'onsets','lyman')\n",
    "    os.mkdir(lyman)\n",
    "\n"
   ]
  },
  {
   "cell_type": "code",
   "execution_count": null,
   "metadata": {
    "collapsed": true
   },
   "outputs": [],
   "source": []
  }
 ],
 "metadata": {
  "anaconda-cloud": {},
  "kernelspec": {
   "display_name": "Python [default]",
   "language": "python",
   "name": "python2"
  },
  "language_info": {
   "codemirror_mode": {
    "name": "ipython",
    "version": 2
   },
   "file_extension": ".py",
   "mimetype": "text/x-python",
   "name": "python",
   "nbconvert_exporter": "python",
   "pygments_lexer": "ipython2",
   "version": "2.7.12"
  }
 },
 "nbformat": 4,
 "nbformat_minor": 1
}
