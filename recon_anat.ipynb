{
 "cells": [
  {
   "cell_type": "code",
   "execution_count": 7,
   "metadata": {
    "collapsed": true
   },
   "outputs": [],
   "source": [
    "import numpy as np\n",
    "import os\n",
    "import os.path as op\n",
    "from ipyparallel import Client"
   ]
  },
  {
   "cell_type": "code",
   "execution_count": 2,
   "metadata": {
    "collapsed": false
   },
   "outputs": [],
   "source": [
    "engines = Client()"
   ]
  },
  {
   "cell_type": "code",
   "execution_count": 3,
   "metadata": {
    "collapsed": false
   },
   "outputs": [],
   "source": [
    "home_dir =  '/home/dnl/habitization/'\n",
    "subs = home_dir + 'subjects.txt'\n",
    "subs = list(np.loadtxt(subs,str))\n",
    "subjects_dir = home_dir + '/data/freesurfer'"
   ]
  },
  {
   "cell_type": "code",
   "execution_count": 10,
   "metadata": {
    "collapsed": false
   },
   "outputs": [
    {
     "name": "stdout",
     "output_type": "stream",
     "text": [
      "recon-all -s HAB25 -i /home/dnl/habitization/data/HAB25/anat/T1_a.nii.gz -i /home/dnl/habitization/data/HAB25/anat/T1_b.nii.gz -sd /home/dnl/habitization/data/freesurfer -all\n"
     ]
    },
    {
     "data": {
      "text/plain": [
       "'HAB25'"
      ]
     },
     "execution_count": 10,
     "metadata": {},
     "output_type": "execute_result"
    }
   ],
   "source": [
    "def recon(sub):\n",
    "    cmd = ['recon-all', \n",
    "           '-s',sub,\n",
    "           '-i',op.join(home_dir,'data',sub,'anat','T1_a.nii.gz'),\n",
    "           '-i',op.join(home_dir,'data',sub,'anat','T1_b.nii.gz'),\n",
    "           '-sd',op.join(home_dir,'data','freesurfer'),\n",
    "           '-all']\n",
    "    cmd = ' '.join(cmd)\n",
    "    os.system(cmd)\n",
    "    return sub"
   ]
  },
  {
   "cell_type": "code",
   "execution_count": null,
   "metadata": {
    "collapsed": false
   },
   "outputs": [
    {
     "name": "stdout",
     "output_type": "stream",
     "text": [
      "importing os on engine(s)\n"
     ]
    }
   ],
   "source": [
    "sub_engines = engines[0:11] #less if you want to use fewer\n",
    "sub_engines.push(dict(home_dir = home_dir))\n",
    "sub_engines.execute('import os.path as op')\n",
    "with sub_engines.sync_imports():\n",
    "    import os\n",
    "    \n",
    "output = sub_engines.map_sync(recon,subs)"
   ]
  },
  {
   "cell_type": "code",
   "execution_count": 9,
   "metadata": {
    "collapsed": false
   },
   "outputs": [],
   "source": [
    "##fix directory structure. For some reason ipython insists on making a new directory for freesurfer outputs,\n",
    "#but lyman wants them in the subject folder\n",
    "for sub in subs:\n",
    "    freesurfer_dir = home_dir + '/data/freesurfer/' + sub\n",
    "    if os.path.exists(freesurfer_dir):\n",
    "        sub_dir = home_dir + '/data/' + sub +'/'\n",
    "        cmd = 'mv ' + freesurfer_dir + '/* ' + sub_dir\n",
    "        os.system(cmd)\n",
    "        os.rmdir(freesurfer_dir)"
   ]
  },
  {
   "cell_type": "code",
   "execution_count": null,
   "metadata": {
    "collapsed": true
   },
   "outputs": [],
   "source": []
  }
 ],
 "metadata": {
  "anaconda-cloud": {},
  "kernelspec": {
   "display_name": "Python [default]",
   "language": "python",
   "name": "python2"
  },
  "language_info": {
   "codemirror_mode": {
    "name": "ipython",
    "version": 2
   },
   "file_extension": ".py",
   "mimetype": "text/x-python",
   "name": "python",
   "nbconvert_exporter": "python",
   "pygments_lexer": "ipython2",
   "version": "2.7.12"
  }
 },
 "nbformat": 4,
 "nbformat_minor": 1
}
