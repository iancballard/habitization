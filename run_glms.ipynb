{
 "cells": [
  {
   "cell_type": "code",
   "execution_count": 1,
   "metadata": {
    "collapsed": true
   },
   "outputs": [],
   "source": [
    "import os.path as op\n",
    "import os\n",
    "import numpy as np\n",
    "import nibabel as nb\n",
    "from ipyparallel import Client"
   ]
  },
  {
   "cell_type": "code",
   "execution_count": 2,
   "metadata": {
    "collapsed": true
   },
   "outputs": [],
   "source": [
    "engines = Client()"
   ]
  },
  {
   "cell_type": "code",
   "execution_count": 3,
   "metadata": {
    "collapsed": false
   },
   "outputs": [],
   "source": [
    "home_dir =  '/home/dnl/habitization/'\n",
    "data_dir = home_dir + '/data/'\n",
    "subs = home_dir + 'subjects.txt'\n",
    "subs = list(np.loadtxt(subs,str))\n",
    "\n",
    "sessions = ['a','b']\n",
    "runs = map(str,range(1,7))\n",
    "\n",
    "ignore_subs = ['HAB17','HAB18']\n",
    "subs = [x for x in subs if x not in ignore_subs]"
   ]
  },
  {
   "cell_type": "code",
   "execution_count": 4,
   "metadata": {
    "collapsed": false,
    "scrolled": true
   },
   "outputs": [],
   "source": [
    "for sub in subs:\n",
    "    for sesh in sessions:\n",
    "        for run in runs:\n",
    "\n",
    "            template = op.join(home_dir,'templates','glm.fsf')\n",
    "            new_f = op.join(home_dir,'templates','glms','_'.join([sub,sesh,run]) +'.fsf')\n",
    "\n",
    "            with open(template,'r') as file:\n",
    "                filedata = file.read()\n",
    "\n",
    "            filedata = filedata.replace('$SUB',sub)\n",
    "            filedata = filedata.replace('$RUN',run)\n",
    "            filedata = filedata.replace('$SESSION',sesh)\n",
    "            \n",
    "            #next get number of time points\n",
    "            func = op.join(home_dir,'data',sub,'func','run_' + sesh + run + '.nii.gz')\n",
    "            func = nb.load(func)\n",
    "            ntpts = func.shape[-1]\n",
    "            filedata = filedata.replace('$NUM_TIMEPOINTS',str(ntpts))\n",
    "\n",
    "            \n",
    "            with open(new_f,'w') as file:\n",
    "                file.write(filedata)\n"
   ]
  },
  {
   "cell_type": "code",
   "execution_count": 5,
   "metadata": {
    "collapsed": false
   },
   "outputs": [],
   "source": [
    "def feat(in_tuple):\n",
    "    sub,sesh,run = in_tuple\n",
    "    fsf = op.join(home_dir,'templates','glms','_'.join([sub,sesh,run]) +'.fsf')\n",
    "    \n",
    "    cmd = ['feat',fsf]\n",
    "    cmd = ' '.join(cmd)\n",
    "    os.system(cmd)\n",
    "    return in_tuple"
   ]
  },
  {
   "cell_type": "code",
   "execution_count": 6,
   "metadata": {
    "collapsed": true
   },
   "outputs": [],
   "source": [
    "in_tuples = []\n",
    "for sub in subs:\n",
    "    for sesh in sessions:\n",
    "        for run in runs:\n",
    "            in_tuples.append((sub,sesh,run))"
   ]
  },
  {
   "cell_type": "code",
   "execution_count": 7,
   "metadata": {
    "collapsed": false
   },
   "outputs": [
    {
     "name": "stdout",
     "output_type": "stream",
     "text": [
      "importing os on engine(s)\n"
     ]
    }
   ],
   "source": [
    "sub_engines = engines[0:12] #less if you want to use fewer\n",
    "sub_engines.push(dict(home_dir = home_dir))\n",
    "sub_engines.execute('import os.path as op')\n",
    "with sub_engines.sync_imports():\n",
    "    import os\n",
    "    \n",
    "output = sub_engines.map_sync(feat,in_tuples)"
   ]
  },
  {
   "cell_type": "markdown",
   "metadata": {},
   "source": [
    "# Now run fixed effects analyis across runs within each session"
   ]
  },
  {
   "cell_type": "code",
   "execution_count": null,
   "metadata": {
    "collapsed": true
   },
   "outputs": [],
   "source": []
  }
 ],
 "metadata": {
  "kernelspec": {
   "display_name": "Python [default]",
   "language": "python",
   "name": "python2"
  },
  "language_info": {
   "codemirror_mode": {
    "name": "ipython",
    "version": 2
   },
   "file_extension": ".py",
   "mimetype": "text/x-python",
   "name": "python",
   "nbconvert_exporter": "python",
   "pygments_lexer": "ipython2",
   "version": "2.7.12"
  }
 },
 "nbformat": 4,
 "nbformat_minor": 1
}
