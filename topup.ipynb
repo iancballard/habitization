{
 "cells": [
  {
   "cell_type": "code",
   "execution_count": 5,
   "metadata": {
    "collapsed": true
   },
   "outputs": [],
   "source": [
    "import os\n",
    "import numpy as np\n",
    "import glob\n",
    "import os.path as op\n",
    "import nibabel as nib\n",
    "from ipyparallel import Client"
   ]
  },
  {
   "cell_type": "code",
   "execution_count": 6,
   "metadata": {
    "collapsed": true
   },
   "outputs": [],
   "source": [
    "home_dir =  '/home/dnl/habitization/'\n",
    "subs = home_dir + 'subjects.txt'\n",
    "subs = list(np.loadtxt(subs,str))"
   ]
  },
  {
   "cell_type": "code",
   "execution_count": 7,
   "metadata": {
    "collapsed": false
   },
   "outputs": [],
   "source": [
    "engines = Client()"
   ]
  },
  {
   "cell_type": "code",
   "execution_count": 16,
   "metadata": {
    "collapsed": false
   },
   "outputs": [],
   "source": [
    "def prep_fieldmaps(sub):        \n",
    "    cal_dir = op.join(home_dir,'data',sub ,'cal')\n",
    "\n",
    "    for sesh in ['a','b']:\n",
    "\n",
    "        #first drop T1 saturation scans\n",
    "        cals = glob.glob(cal_dir + '/cal_' + sesh + '*')\n",
    "        sliced_scans = []\n",
    "        for pe1 in cals:\n",
    "            sliced = pe1[:-7] + '_slice'\n",
    "            sliced_scans.append(sliced)\n",
    "            cmd = ['fslroi',pe1,sliced,'3','2']\n",
    "            cmd = ' '.join(cmd)\n",
    "            os.system(cmd)\n",
    "\n",
    "        #pe0 from main scans\n",
    "        for run in range(1,7):\n",
    "            out_pe0 = cal_dir + '/pe0_slice_' + sesh + str(run)\n",
    "            in_f =  op.join(home_dir,'data',sub,'func',\n",
    "                            'run_' + sesh + str(run) + '.nii.gz')\n",
    "            data = nib.load(in_f)\n",
    "            idx = data.shape[-1]//2 #middle volume\n",
    "            cmd = ['fslroi',in_f,out_pe0,str(idx),'2']\n",
    "            cmd = ' '.join(cmd)\n",
    "            os.system(cmd) \n",
    "\n",
    "            #merge scans\n",
    "            out_f = cal_dir + '/merged_' + sesh + str(run)\n",
    "            if run <= 3: #get cal scan from that half of scanning\n",
    "                idx = 0\n",
    "            else:\n",
    "                idx = 1\n",
    "            cmd = ['fslmerge','-t',out_f,\n",
    "                   sliced_scans[idx],\n",
    "                  out_pe0]\n",
    "            cmd = ' '.join(cmd)\n",
    "            os.system(cmd)\n",
    "\n",
    "            #motion correct\n",
    "            cmd = ['mcflirt','-in',out_f,'-refvol','2'] #register to functional run\n",
    "            os.system(' '.join(cmd))"
   ]
  },
  {
   "cell_type": "code",
   "execution_count": 9,
   "metadata": {
    "collapsed": false
   },
   "outputs": [
    {
     "name": "stdout",
     "output_type": "stream",
     "text": [
      "importing os on engine(s)\n",
      "importing glob on engine(s)\n"
     ]
    },
    {
     "ename": "CompositeError",
     "evalue": "one or more exceptions from call to method: prep_fieldmaps\n[5:apply]: IndexError: list index out of range",
     "output_type": "error",
     "traceback": [
      "[5:apply]: ",
      "\u001b[0;31m\u001b[0m\u001b[0;31mIndexError\u001b[0mTraceback (most recent call last)\u001b[0;32m<string>\u001b[0m in \u001b[0;36m<module>\u001b[0;34m()\u001b[0m",
      "\u001b[0;32m<ipython-input-8-1c0d5cb35368>\u001b[0m in \u001b[0;36mprep_fieldmaps\u001b[0;34m(sub)\u001b[0m",
      "\u001b[0;31mIndexError\u001b[0m: list index out of range",
      ""
     ]
    }
   ],
   "source": [
    "sub_engines = engines[0:10] #less if you want to use fewer\n",
    "sub_engines.push(dict(home_dir = home_dir))\n",
    "sub_engines.execute('import os.path as op')\n",
    "sub_engines.execute('import numpy as np')\n",
    "sub_engines.execute('import nibabel as nib')\n",
    "with sub_engines.sync_imports():\n",
    "    import os\n",
    "    import glob\n",
    "    \n",
    "output = sub_engines.map_sync(prep_fieldmaps,subs)"
   ]
  },
  {
   "cell_type": "code",
   "execution_count": 18,
   "metadata": {
    "collapsed": false
   },
   "outputs": [],
   "source": [
    "##check cal\n",
    "for sub in subs:\n",
    "    cal_dir = op.join(home_dir,'data',sub ,'cal')\n",
    "    for sesh in ['a','b']:\n",
    "        for run in range(1,7):\n",
    "            out_f = cal_dir + '/merged_' + sesh + str(run) + '_mcf.nii.gz'\n",
    "            \n",
    "            if not os.path.exists(out_f):\n",
    "                print 'no file',sub,sesh,run\n",
    "\n",
    "            elif nib.load(out_f).shape[-1] != 4:\n",
    "                print 'wrong size',sub,sesh,run\n",
    "\n",
    "    "
   ]
  },
  {
   "cell_type": "code",
   "execution_count": null,
   "metadata": {
    "collapsed": true
   },
   "outputs": [],
   "source": []
  }
 ],
 "metadata": {
  "kernelspec": {
   "display_name": "Python [default]",
   "language": "python",
   "name": "python2"
  },
  "language_info": {
   "codemirror_mode": {
    "name": "ipython",
    "version": 2
   },
   "file_extension": ".py",
   "mimetype": "text/x-python",
   "name": "python",
   "nbconvert_exporter": "python",
   "pygments_lexer": "ipython2",
   "version": "2.7.12"
  }
 },
 "nbformat": 4,
 "nbformat_minor": 1
}
